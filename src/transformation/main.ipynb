{
 "cells": [
  {
   "cell_type": "code",
   "execution_count": null,
   "id": "3be1fe56-09cc-4386-804b-9ee47d589a5d",
   "metadata": {},
   "outputs": [],
   "source": [
    "!pip install pandas"
   ]
  },
  {
   "cell_type": "code",
   "execution_count": null,
   "id": "c043c9cb-fc4f-433b-a5f2-eb4f98eb71aa",
   "metadata": {},
   "outputs": [],
   "source": [
    "import pandas as pd\n",
    "from datetime import date\n",
    "import sqlite3"
   ]
  },
  {
   "cell_type": "code",
   "execution_count": null,
   "id": "96a38539-2e61-479b-a8ac-7dabbf8f7d70",
   "metadata": {},
   "outputs": [],
   "source": [
    "# carregando arquivo json\n",
    "df = pd.read_json('../data/data.json')\n",
    "df.head(5)"
   ]
  },
  {
   "cell_type": "code",
   "execution_count": null,
   "id": "69f24bb1-b992-4afd-8a16-5b7886355ef3",
   "metadata": {},
   "outputs": [],
   "source": [
    "# criação das colunas que indicam a fonte dos dados e data da coleta\n",
    "df['fonte'] = 'https://lista.mercadolivre.com.br/tenis-corrida-masculino'\n",
    "df['data_coleta'] = date.fromisoformat('2024-05-24')\n",
    "df.head()"
   ]
  },
  {
   "cell_type": "code",
   "execution_count": null,
   "id": "274d2a0a-a203-4bef-b5fc-d05b4c15221f",
   "metadata": {},
   "outputs": [],
   "source": [
    "# remover parentese da coluna qnt_avaliacoes e converter a coluna para o tipo int\n",
    "df['qnt_avaliacoes'] = (\n",
    "    df['qnt_avaliacoes']\n",
    "    .str.replace(r\"[\\(\\)]\", '', regex=True)\n",
    ")\n",
    "df['qnt_avaliacoes'] = (\n",
    "    pd.to_numeric(df['qnt_avaliacoes'], errors='coerce')\n",
    "    .fillna(0)\n",
    "    .astype(int)\n",
    ")\n",
    "\n",
    "df[['qnt_avaliacoes']]"
   ]
  },
  {
   "cell_type": "code",
   "execution_count": null,
   "id": "8538bdf9-c4bf-463a-aa7a-e82f663e7e86",
   "metadata": {},
   "outputs": [],
   "source": [
    "df.dtypes"
   ]
  },
  {
   "cell_type": "code",
   "execution_count": null,
   "id": "0659846d-4805-4aad-a022-a7ff993f1ecc",
   "metadata": {},
   "outputs": [],
   "source": [
    "# tratando preços e calculando valores totais\n",
    "df['preco_antigo'] = df['valor_antigo'] + df['centavos_ant'] / 100\n",
    "df['novo_preco'] = df['valor_novo'] + df['centavos_nv'] / 100"
   ]
  },
  {
   "cell_type": "code",
   "execution_count": null,
   "id": "e52f099a-0f8a-40fa-b528-7768c7e0530c",
   "metadata": {},
   "outputs": [],
   "source": [
    "# removendo colunas de preço antigas\n",
    "df.drop(columns=['valor_antigo','centavos_ant','valor_novo','centavos_nv'])"
   ]
  },
  {
   "cell_type": "code",
   "execution_count": null,
   "id": "52ee8cc1-8ea2-4151-8f7e-a63bc8e55860",
   "metadata": {},
   "outputs": [],
   "source": [
    "# tratandondo valores nulos\n",
    "df.fillna(0).head(5)"
   ]
  },
  {
   "cell_type": "code",
   "execution_count": null,
   "id": "5639fc38-ae92-4614-bf6a-8ae3ea216353",
   "metadata": {},
   "outputs": [],
   "source": [
    "# conectando ao banco de dados\n",
    "conn = sqlite3.connect('../data/cotas.db')"
   ]
  },
  {
   "cell_type": "code",
   "execution_count": null,
   "id": "58c5e0ae-6f82-4d21-8384-5af1acd1f94d",
   "metadata": {},
   "outputs": [],
   "source": [
    "# salvando o dataframe no banco de dados\n",
    "df.to_sql('mercadolivre_items', conn, if_exists='replace', index=False)"
   ]
  },
  {
   "cell_type": "code",
   "execution_count": null,
   "id": "835b834b-6c76-4d62-9299-511944fb3e2b",
   "metadata": {},
   "outputs": [],
   "source": [
    "conn.close()"
   ]
  }
 ],
 "metadata": {
  "kernelspec": {
   "display_name": "Python 3 (ipykernel)",
   "language": "python",
   "name": "python3"
  },
  "language_info": {
   "codemirror_mode": {
    "name": "ipython",
    "version": 3
   },
   "file_extension": ".py",
   "mimetype": "text/x-python",
   "name": "python",
   "nbconvert_exporter": "python",
   "pygments_lexer": "ipython3",
   "version": "3.12.3"
  }
 },
 "nbformat": 4,
 "nbformat_minor": 5
}
